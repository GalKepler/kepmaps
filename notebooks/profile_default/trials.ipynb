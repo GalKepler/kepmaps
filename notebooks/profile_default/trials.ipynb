{
 "cells": [
  {
   "cell_type": "code",
   "execution_count": 1,
   "metadata": {},
   "outputs": [],
   "source": [
    "from kepmaps.datasets.annotation import Annotation\n",
    "annot = Annotation()\n",
    "# project = annot.project\n",
    "# storage = project.storage()"
   ]
  },
  {
   "cell_type": "code",
   "execution_count": 3,
   "metadata": {},
   "outputs": [],
   "source": [
    "tree = annot.tree"
   ]
  },
  {
   "cell_type": "code",
   "execution_count": 2,
   "metadata": {},
   "outputs": [
    {
     "data": {
      "text/plain": [
       "['references.bib', 'MNI152', 'fsaverage']"
      ]
     },
     "execution_count": 2,
     "metadata": {},
     "output_type": "execute_result"
    }
   ],
   "source": [
    "annot.query_available_spaces(\"fan2016\")"
   ]
  },
  {
   "cell_type": "code",
   "execution_count": null,
   "metadata": {},
   "outputs": [
    {
     "ename": "TypeError",
     "evalue": "ContainerMixin._iter_children() missing 3 required positional arguments: 'url', 'kind', and 'klass'",
     "output_type": "error",
     "traceback": [
      "\u001b[0;31m---------------------------------------------------------------------------\u001b[0m",
      "\u001b[0;31mTypeError\u001b[0m                                 Traceback (most recent call last)",
      "\u001b[0;32m/tmp/ipykernel_389633/3581970468.py\u001b[0m in \u001b[0;36m<cell line: 1>\u001b[0;34m()\u001b[0m\n\u001b[0;32m----> 1\u001b[0;31m \u001b[0;32mfor\u001b[0m \u001b[0mi\u001b[0m \u001b[0;32min\u001b[0m \u001b[0mf\u001b[0m\u001b[0;34m.\u001b[0m\u001b[0m_iter_children\u001b[0m\u001b[0;34m(\u001b[0m\u001b[0;34m)\u001b[0m\u001b[0;34m:\u001b[0m\u001b[0;34m\u001b[0m\u001b[0;34m\u001b[0m\u001b[0m\n\u001b[0m\u001b[1;32m      2\u001b[0m     \u001b[0mprint\u001b[0m\u001b[0;34m(\u001b[0m\u001b[0mi\u001b[0m\u001b[0;34m)\u001b[0m\u001b[0;34m\u001b[0m\u001b[0;34m\u001b[0m\u001b[0m\n",
      "\u001b[0;31mTypeError\u001b[0m: ContainerMixin._iter_children() missing 3 required positional arguments: 'url', 'kind', and 'klass'"
     ]
    }
   ],
   "source": [
    "tree[\"annotations\"][\"fan2016\"]"
   ]
  },
  {
   "cell_type": "code",
   "execution_count": 29,
   "metadata": {},
   "outputs": [],
   "source": [
    "import requests\n",
    "import json\n",
    "import os\n",
    "\n",
    "def _get_token(token=None):\n",
    "    \"\"\"\n",
    "    Returns `token` if provided or set as environmental variable\n",
    "\n",
    "    Parameters\n",
    "    ----------\n",
    "    token : str, optional\n",
    "        OSF personal access token for accessing restricted annotations. Will\n",
    "        also check the environmental variable 'NEUROMAPS_OSF_TOKEN' if not\n",
    "        provided; if that is not set no token will be provided and restricted\n",
    "        annotations will be inaccessible. Default: None\n",
    "\n",
    "    Returns\n",
    "    -------\n",
    "    token : str\n",
    "        OSF token\n",
    "    \"\"\"\n",
    "\n",
    "    if token is None:\n",
    "        token = os.environ.get('NEUROMAPS_OSF_TOKEN', None)\n",
    "\n",
    "    return token\n",
    "\n",
    "def _get_session(token=None):\n",
    "    \"\"\"\n",
    "    Returns requests.Session with `token` auth in header if supplied\n",
    "\n",
    "    Parameters\n",
    "    ----------\n",
    "    token : str, optional\n",
    "        OSF personal access token for accessing restricted annotations. Will\n",
    "        also check the environmental variable 'NEUROMAPS_OSF_TOKEN' if not\n",
    "        provided; if that is not set no token will be provided and restricted\n",
    "        annotations will be inaccessible. Default: None\n",
    "\n",
    "    Returns\n",
    "    -------\n",
    "    session : requests.Session\n",
    "        Session instance with authentication in header\n",
    "    \"\"\"\n",
    "\n",
    "    session = requests.Session()\n",
    "    token = _get_token(token)\n",
    "    if token is not None:\n",
    "        session.headers['Authorization'] = 'Bearer {}'.format(token)\n",
    "\n",
    "    return session"
   ]
  },
  {
   "cell_type": "code",
   "execution_count": 32,
   "metadata": {},
   "outputs": [],
   "source": [
    "session = _get_session()\n",
    " "
   ]
  },
  {
   "cell_type": "code",
   "execution_count": 41,
   "metadata": {},
   "outputs": [],
   "source": [
    "# from nilearn.datasets.utils import _fetch_files\n",
    "pid = \"64ca3b0c4f0a44231d99448a\"\n",
    "s = f\"https://files.osf.io/v1/resources/7cdk8/providers/osfstorage/61eaf5091986f00160e3bd69\"\n",
    "\n",
    "# download the folder containing the data\n",
    "# requests.get(s, params={\"zip\": True})"
   ]
  },
  {
   "cell_type": "code",
   "execution_count": 4,
   "metadata": {},
   "outputs": [],
   "source": [
    "from osfclient.api import OSF\n",
    "from osfclient.models import OSFCore\n",
    "from osfclient.cli import _setup_osf\n",
    "\n",
    "osf = OSF()\n",
    "project = osf.project('7cdk8')"
   ]
  },
  {
   "cell_type": "code",
   "execution_count": 6,
   "metadata": {},
   "outputs": [
    {
     "data": {
      "text/plain": [
       "osfclient.models.project.Project"
      ]
     },
     "execution_count": 6,
     "metadata": {},
     "output_type": "execute_result"
    }
   ],
   "source": [
    "type(project)"
   ]
  },
  {
   "cell_type": "code",
   "execution_count": 62,
   "metadata": {},
   "outputs": [],
   "source": [
    "storage = project.storage()\n",
    "for f in storage.files:\n",
    "    break"
   ]
  },
  {
   "cell_type": "code",
   "execution_count": 37,
   "metadata": {},
   "outputs": [],
   "source": [
    "# with open(\"trial.nii.gz\",\"wb\") as fp:\n",
    "#     f.write_to(fp)"
   ]
  },
  {
   "cell_type": "code",
   "execution_count": 40,
   "metadata": {},
   "outputs": [
    {
     "data": {
      "text/plain": [
       "<osfclient.models.storage.Storage at 0x7f988b9d91e0>"
      ]
     },
     "execution_count": 40,
     "metadata": {},
     "output_type": "execute_result"
    }
   ],
   "source": [
    "project.storage()"
   ]
  }
 ],
 "metadata": {
  "kernelspec": {
   "display_name": ".venv",
   "language": "python",
   "name": "python3"
  },
  "language_info": {
   "codemirror_mode": {
    "name": "ipython",
    "version": 3
   },
   "file_extension": ".py",
   "mimetype": "text/x-python",
   "name": "python",
   "nbconvert_exporter": "python",
   "pygments_lexer": "ipython3",
   "version": "3.10.2"
  },
  "orig_nbformat": 4
 },
 "nbformat": 4,
 "nbformat_minor": 2
}
