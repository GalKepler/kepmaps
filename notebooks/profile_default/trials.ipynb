{
 "cells": [
  {
   "cell_type": "code",
   "execution_count": 1,
   "metadata": {},
   "outputs": [],
   "source": [
    "from kepmaps.datasets.annotation import Annotation\n",
    "annot = Annotation()\n",
    "# project = annot.project\n",
    "# storage = project.storage()"
   ]
  },
  {
   "cell_type": "code",
   "execution_count": 8,
   "metadata": {},
   "outputs": [
    {
     "data": {
      "text/plain": [
       "PosixPath('/media/groot/Minerva/fan2016/atlas-fan2016_dseg.tsv')"
      ]
     },
     "execution_count": 8,
     "metadata": {},
     "output_type": "execute_result"
    }
   ],
   "source": [
    "# tree = annot.tree\n",
    "from pathlib import Path\n",
    "\n",
    "\n",
    "p = Path(\"/media/groot/Minerva\")/\"fan2016/atlas-fan2016_dseg.tsv\"\n",
    "p.absolute()"
   ]
  },
  {
   "cell_type": "code",
   "execution_count": 2,
   "metadata": {},
   "outputs": [
    {
     "name": "stdout",
     "output_type": "stream",
     "text": [
      "/media/groot/Minerva/fan2016/MNI152/space-MNI152_atlas-fan2016_res-1mm_dseg.nii.gz\n"
     ]
    },
    {
     "name": "stderr",
     "output_type": "stream",
     "text": [
      "100%|██████████| 272k/272k [00:00<00:00, 445kbytes/s] \n"
     ]
    },
    {
     "name": "stdout",
     "output_type": "stream",
     "text": [
      "/media/groot/Minerva/fan2016/atlas-fan2016_dseg.tsv\n"
     ]
    },
    {
     "name": "stderr",
     "output_type": "stream",
     "text": [
      "100%|██████████| 3.14k/3.14k [00:00<00:00, 8.36Mbytes/s]\n"
     ]
    },
    {
     "name": "stdout",
     "output_type": "stream",
     "text": [
      "/media/groot/Minerva/fan2016/references.bib\n"
     ]
    },
    {
     "name": "stderr",
     "output_type": "stream",
     "text": [
      "100%|██████████| 548/548 [00:00<00:00, 2.80Mbytes/s]\n"
     ]
    }
   ],
   "source": [
    "fs = annot.fetch(\"fan2016\",entities={\"space\":\"MNI152\"},destination=\"/media/groot/Minerva/\")"
   ]
  },
  {
   "cell_type": "code",
   "execution_count": null,
   "metadata": {},
   "outputs": [
    {
     "data": {
      "text/plain": [
       "{'MNI152': [<osfclient.models.file.File at 0x7f1daea2d0f0>],\n",
       " 'supp': [<osfclient.models.file.File at 0x7f1daea2c880>,\n",
       "  <osfclient.models.file.File at 0x7f1daea2ce20>]}"
      ]
     },
     "execution_count": 3,
     "metadata": {},
     "output_type": "execute_result"
    }
   ],
   "source": [
    "# f = fs.get(\"MNI152\").get(\"space-MNI152_atlas-fan2016_res-1mm_dseg.nii.gz\")\n",
    "fs"
   ]
  },
  {
   "cell_type": "code",
   "execution_count": null,
   "metadata": {},
   "outputs": [
    {
     "data": {
      "text/plain": [
       "'/fan2016/MNI152/space-MNI152_atlas-fan2016_res-1mm_dseg.nii.gz'"
      ]
     },
     "execution_count": 13,
     "metadata": {},
     "output_type": "execute_result"
    }
   ],
   "source": [
    "# f.path.replace(\"/\"+annot.SUBFOLDER_NAME,\"\")\n"
   ]
  },
  {
   "cell_type": "code",
   "execution_count": null,
   "metadata": {},
   "outputs": [],
   "source": [
    "# from nilearn.datasets.utils import _fetch_files\n",
    "pid = \"64ca3b0c4f0a44231d99448a\"\n",
    "s = f\"https://files.osf.io/v1/resources/7cdk8/providers/osfstorage/61eaf5091986f00160e3bd69\"\n",
    "\n",
    "# download the folder containing the data\n",
    "# requests.get(s, params={\"zip\": True})"
   ]
  },
  {
   "cell_type": "code",
   "execution_count": null,
   "metadata": {},
   "outputs": [],
   "source": [
    "from osfclient.api import OSF\n",
    "from osfclient.models import OSFCore\n",
    "from osfclient.cli import _setup_osf\n",
    "\n",
    "osf = OSF()\n",
    "project = osf.project('7cdk8')"
   ]
  },
  {
   "cell_type": "code",
   "execution_count": null,
   "metadata": {},
   "outputs": [
    {
     "data": {
      "text/plain": [
       "osfclient.models.project.Project"
      ]
     },
     "execution_count": 6,
     "metadata": {},
     "output_type": "execute_result"
    }
   ],
   "source": [
    "type(project)"
   ]
  },
  {
   "cell_type": "code",
   "execution_count": null,
   "metadata": {},
   "outputs": [],
   "source": [
    "storage = project.storage()\n",
    "for f in storage.files:\n",
    "    break"
   ]
  },
  {
   "cell_type": "code",
   "execution_count": null,
   "metadata": {},
   "outputs": [],
   "source": [
    "# with open(\"trial.nii.gz\",\"wb\") as fp:\n",
    "#     f.write_to(fp)"
   ]
  },
  {
   "cell_type": "code",
   "execution_count": null,
   "metadata": {},
   "outputs": [
    {
     "data": {
      "text/plain": [
       "<osfclient.models.storage.Storage at 0x7f988b9d91e0>"
      ]
     },
     "execution_count": 40,
     "metadata": {},
     "output_type": "execute_result"
    }
   ],
   "source": [
    "project.storage()"
   ]
  }
 ],
 "metadata": {
  "kernelspec": {
   "display_name": ".venv",
   "language": "python",
   "name": "python3"
  },
  "language_info": {
   "codemirror_mode": {
    "name": "ipython",
    "version": 3
   },
   "file_extension": ".py",
   "mimetype": "text/x-python",
   "name": "python",
   "nbconvert_exporter": "python",
   "pygments_lexer": "ipython3",
   "version": "3.10.2"
  },
  "orig_nbformat": 4
 },
 "nbformat": 4,
 "nbformat_minor": 2
}
