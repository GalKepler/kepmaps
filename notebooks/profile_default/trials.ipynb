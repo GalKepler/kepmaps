{
 "cells": [
  {
   "cell_type": "code",
   "execution_count": 1,
   "metadata": {},
   "outputs": [],
   "source": [
    "import pandas as pd\n",
    "from pathlib import Path\n",
    "from kepmaps.kepmap import KepMap\n",
    "\n",
    "brainnetome = KepMap(name=\"brainnetome\")\n",
    "brainnetome.associate(\"atlas_nifti_file\", Path(\"/media/groot/Data/Parcellations/MNI/BN_Atlas_274_combined_1mm.nii.gz\"))\n",
    "brainnetome.associate(\"description_csv\", Path(\"/media/groot/Data/Parcellations/MNI/BNA_with_cerebellum.csv\"))\n",
    "brainnetome.associate(\"description\", pd.read_csv(brainnetome.description_csv, index_col=0))\n",
    "brainnetome.associate(\"subcortex_gcs\", \"/media/groot/Data/Parcellations/MNI/Brainnetome_FS/BN_Atlas_subcortex.gca\")\n",
    "brainnetome.associate(\"rh_gcs\", \"/media/groot/Data/Parcellations/MNI/Brainnetome_FS/rh.BN_Atlas.gcs\")\n",
    "brainnetome.associate(\"lh_gcs\", \"/media/groot/Data/Parcellations/MNI/Brainnetome_FS/lh.BN_Atlas.gcs\")\n",
    "brainnetome.associate(\"lut\", \"/media/groot/Data/Parcellations/MNI/Brainnetome_FS/BN_Atlas_246_LUT.txt\")\n",
    "brainnetome.associate(\"label_name\", \"Label\")\n",
    "brainnetome.associate(\"labels\", brainnetome.description[brainnetome.label_name].values.tolist())\n",
    "brainnetome.save()"
   ]
  },
  {
   "cell_type": "code",
   "execution_count": 2,
   "metadata": {},
   "outputs": [],
   "source": [
    "mmp = KepMap(\"mmp1.0\", load_existing=True)\n",
    "mmp.associate(\"atlas_nifti_file\", Path(\"/media/groot/Data/Parcellations/MNI/MMP/MMP_in_MNI_corr.nii.gz\"))\n",
    "mmp.associate(\"description_csv\", Path(\"/media/groot/Data/Parcellations/MNI/MMP/MMP_parcels.csv\"))\n",
    "mmp.associate(\"description\", pd.read_csv(mmp.description_csv, index_col=0))\n",
    "# brainnetome.associate(\"subcortex_gcs\", \"/media/groot/Data/Parcellations/MNI/Brainnetome_FS/BN_Atlas_subcortex.gca\")\n",
    "# brainnetome.associate(\"rh_gcs\", \"/media/groot/Data/Parcellations/MNI/Brainnetome_FS/rh.BN_Atlas.gcs\")\n",
    "# brainnetome.associate(\"lh_gcs\", \"/media/groot/Data/Parcellations/MNI/Brainnetome_FS/lh.BN_Atlas.gcs\")\n",
    "# brainnetome.associate(\"lut\", \"/media/groot/Data/Parcellations/MNI/Brainnetome_FS/BN_Atlas_246_LUT.txt\")\n",
    "mmp.associate(\"label_name\", \"Label\")\n",
    "mmp.associate(\"labels\", mmp.description[mmp.label_name].values.tolist())\n",
    "mmp.save()"
   ]
  },
  {
   "cell_type": "code",
   "execution_count": 3,
   "metadata": {},
   "outputs": [],
   "source": [
    "hcpex = KepMap(\"hcpex\", load_existing=True)\n",
    "hcpex.associate(\"atlas_nifti_file\", Path(\"/media/groot/Data/misc/HCPex/HCPex_v1.1/HCPex.nii.gz\"))\n",
    "hcpex.associate(\"description_csv\", Path(\"/media/groot/Data/misc/HCPex/HCPex_v1.1/HCPex_LabelID.csv\"))\n",
    "hcpex.associate(\"description\", pd.read_csv(hcpex.description_csv, index_col=0))\n",
    "# brainnetome.associate(\"subcortex_gcs\", \"/media/groot/Data/Parcellations/MNI/Brainnetome_FS/BN_Atlas_subcortex.gca\")\n",
    "# brainnetome.associate(\"rh_gcs\", \"/media/groot/Data/Parcellations/MNI/Brainnetome_FS/rh.BN_Atlas.gcs\")\n",
    "# brainnetome.associate(\"lh_gcs\", \"/media/groot/Data/Parcellations/MNI/Brainnetome_FS/lh.BN_Atlas.gcs\")\n",
    "# brainnetome.associate(\"lut\", \"/media/groot/Data/Parcellations/MNI/Brainnetome_FS/BN_Atlas_246_LUT.txt\")\n",
    "hcpex.associate(\"label_name\", \"HCPex_label\")\n",
    "hcpex.associate(\"labels\", hcpex.description[hcpex.label_name].values.tolist())\n",
    "hcpex.save()"
   ]
  },
  {
   "cell_type": "code",
   "execution_count": null,
   "metadata": {},
   "outputs": [],
   "source": [
    "aal = KepMap(\"AAL\", load_existing=True)\n",
    "aal.associate(\"atlas_nifti_file\", Path(\"/media/groot/Data/misc/HCPex/HCPex_v1.1/HCPex.nii.gz\"))\n",
    "aal.associate(\"description_csv\", Path(\"/media/groot/Data/misc/HCPex/HCPex_v1.1/HCPex_LabelID.csv\"))\n",
    "aal.associate(\"description\", pd.read_csv(hcpex.description_csv, index_col=0))\n",
    "# brainnetome.associate(\"subcortex_gcs\", \"/media/groot/Data/Parcellations/MNI/Brainnetome_FS/BN_Atlas_subcortex.gca\")\n",
    "# brainnetome.associate(\"rh_gcs\", \"/media/groot/Data/Parcellations/MNI/Brainnetome_FS/rh.BN_Atlas.gcs\")\n",
    "# brainnetome.associate(\"lh_gcs\", \"/media/groot/Data/Parcellations/MNI/Brainnetome_FS/lh.BN_Atlas.gcs\")\n",
    "# brainnetome.associate(\"lut\", \"/media/groot/Data/Parcellations/MNI/Brainnetome_FS/BN_Atlas_246_LUT.txt\")\n",
    "aal.associate(\"label_name\", \"HCPex_label\")\n",
    "aal.associate(\"labels\", hcpex.description[hcpex.label_name].values.tolist())\n",
    "aal.save()"
   ]
  },
  {
   "cell_type": "code",
   "execution_count": 23,
   "metadata": {},
   "outputs": [],
   "source": [
    "import pandas as pd\n",
    "\n",
    "\n",
    "df = pd.read_csv(\"/home/groot/Projects/kepmaps_storage/osfstorage/annotations/huang2022/space-MNI152_atlas-huang2022_res-1mm_dseg.csv\",index_col=0)\n",
    "df.to_csv(\"/home/groot/Projects/kepmaps_storage/osfstorage/annotations/huang2022/space-MNI152_atlas-huang2022_res-1mm_dseg.tsv\",sep=\"\\t\",index=False)\n",
    "# df[\"Hemi\"].fillna(df[\"index\"].astype(str), inplace=True)\n",
    "# df[\"name\"] = df[\"name\"] + \"_\" + df[\"Hemi\"]\n",
    "# df.drop(columns=[\"Hemi\"], inplace=True)\n",
    "# df.to_csv(\"/home/groot/Projects/kepmaps_storage/osfstorage/annotations/fan2016/MNI152/atlas-fan2016_space-MNI152_res-1mm_dseg.tsv\",sep=\"\\t\",index=False)"
   ]
  },
  {
   "cell_type": "code",
   "execution_count": 29,
   "metadata": {},
   "outputs": [],
   "source": [
    "import requests\n",
    "import json\n",
    "import os\n",
    "\n",
    "def _get_token(token=None):\n",
    "    \"\"\"\n",
    "    Returns `token` if provided or set as environmental variable\n",
    "\n",
    "    Parameters\n",
    "    ----------\n",
    "    token : str, optional\n",
    "        OSF personal access token for accessing restricted annotations. Will\n",
    "        also check the environmental variable 'NEUROMAPS_OSF_TOKEN' if not\n",
    "        provided; if that is not set no token will be provided and restricted\n",
    "        annotations will be inaccessible. Default: None\n",
    "\n",
    "    Returns\n",
    "    -------\n",
    "    token : str\n",
    "        OSF token\n",
    "    \"\"\"\n",
    "\n",
    "    if token is None:\n",
    "        token = os.environ.get('NEUROMAPS_OSF_TOKEN', None)\n",
    "\n",
    "    return token\n",
    "\n",
    "def _get_session(token=None):\n",
    "    \"\"\"\n",
    "    Returns requests.Session with `token` auth in header if supplied\n",
    "\n",
    "    Parameters\n",
    "    ----------\n",
    "    token : str, optional\n",
    "        OSF personal access token for accessing restricted annotations. Will\n",
    "        also check the environmental variable 'NEUROMAPS_OSF_TOKEN' if not\n",
    "        provided; if that is not set no token will be provided and restricted\n",
    "        annotations will be inaccessible. Default: None\n",
    "\n",
    "    Returns\n",
    "    -------\n",
    "    session : requests.Session\n",
    "        Session instance with authentication in header\n",
    "    \"\"\"\n",
    "\n",
    "    session = requests.Session()\n",
    "    token = _get_token(token)\n",
    "    if token is not None:\n",
    "        session.headers['Authorization'] = 'Bearer {}'.format(token)\n",
    "\n",
    "    return session"
   ]
  },
  {
   "cell_type": "code",
   "execution_count": 32,
   "metadata": {},
   "outputs": [],
   "source": [
    "session = _get_session()\n",
    " "
   ]
  },
  {
   "cell_type": "code",
   "execution_count": 41,
   "metadata": {},
   "outputs": [],
   "source": [
    "# from nilearn.datasets.utils import _fetch_files\n",
    "pid = \"64ca3b0c4f0a44231d99448a\"\n",
    "s = f\"https://files.osf.io/v1/resources/7cdk8/providers/osfstorage/61eaf5091986f00160e3bd69\"\n",
    "\n",
    "# download the folder containing the data\n",
    "# requests.get(s, params={\"zip\": True})"
   ]
  },
  {
   "cell_type": "code",
   "execution_count": 52,
   "metadata": {},
   "outputs": [],
   "source": [
    "from osfclient.api import OSF\n",
    "from osfclient.models import OSFCore\n",
    "from osfclient.cli import _setup_osf\n",
    "\n",
    "osf = OSF()\n",
    "project = osf.project('7cdk8')"
   ]
  },
  {
   "cell_type": "code",
   "execution_count": 62,
   "metadata": {},
   "outputs": [],
   "source": [
    "storage = project.storage()\n",
    "for f in storage.files:\n",
    "    break"
   ]
  },
  {
   "cell_type": "code",
   "execution_count": 67,
   "metadata": {},
   "outputs": [
    {
     "name": "stderr",
     "output_type": "stream",
     "text": [
      "100%|██████████| 3.22M/3.22M [00:01<00:00, 2.76Mbytes/s]\n"
     ]
    }
   ],
   "source": [
    "with open(\"trial.nii.gz\",\"wb\") as fp:\n",
    "    f.write_to(fp)"
   ]
  }
 ],
 "metadata": {
  "kernelspec": {
   "display_name": ".venv",
   "language": "python",
   "name": "python3"
  },
  "language_info": {
   "codemirror_mode": {
    "name": "ipython",
    "version": 3
   },
   "file_extension": ".py",
   "mimetype": "text/x-python",
   "name": "python",
   "nbconvert_exporter": "python",
   "pygments_lexer": "ipython3",
   "version": "3.10.2"
  },
  "orig_nbformat": 4
 },
 "nbformat": 4,
 "nbformat_minor": 2
}
